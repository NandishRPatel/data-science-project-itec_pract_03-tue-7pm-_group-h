{
 "cells": [
  {
   "cell_type": "markdown",
   "metadata": {},
   "source": [
    "### Modelling Chicago Crime Data with District as output variable: "
   ]
  },
  {
   "cell_type": "code",
   "execution_count": 1,
   "metadata": {},
   "outputs": [],
   "source": [
    "import pandas as pd\n",
    "import seaborn as sbs\n",
    "import copy\n",
    "import os\n",
    "import warnings\n",
    "import folium\n",
    "from folium.plugins import HeatMap\n",
    "warnings.filterwarnings('ignore')\n",
    "import matplotlib.dates as mdates\n",
    "from matplotlib import pyplot as plt\n",
    "from sklearn.linear_model import LogisticRegression\n",
    "from sklearn.tree import DecisionTreeClassifier\n",
    "from sklearn.ensemble import RandomForestClassifier\n",
    "from sklearn.naive_bayes import GaussianNB\n",
    "from sklearn.neural_network import MLPClassifier\n",
    "from sklearn.metrics import accuracy_score\n",
    "plt.style.use('seaborn')\n",
    "%matplotlib inline\n",
    "pd.set_option('display.max_columns', 10)\n",
    "pd.set_option('display.max_rows', 30)"
   ]
  },
  {
   "cell_type": "code",
   "execution_count": 2,
   "metadata": {},
   "outputs": [
    {
     "data": {
      "text/html": [
       "\n",
       "<style>\n",
       "\n",
       "div.cell { /* Tunes the space between cells */\n",
       "margin-top:1em;\n",
       "margin-bottom:1em;\n",
       "}\n",
       "\n",
       "div.text_cell_render h1 { /* Main titles bigger, centered */\n",
       "font-size: 2.2em;\n",
       "line-height:1.4em;\n",
       "text-align:center;\n",
       "}\n",
       "\n",
       "div.text_cell_render h2 { /*  Parts names nearer from text */\n",
       "margin-bottom: -0.4em;\n",
       "}\n",
       "\n",
       "\n",
       "div.text_cell_render { /* Customize text cells */\n",
       "font-family: 'Times New Roman';\n",
       "font-style:italic;\n",
       "font-size:1.4em;\n",
       "line-height:1.4em;\n",
       "padding-left:0em;\n",
       "padding-right:0em;\n",
       "}\n",
       "</style>\n"
      ],
      "text/plain": [
       "<IPython.core.display.HTML object>"
      ]
     },
     "execution_count": 2,
     "metadata": {},
     "output_type": "execute_result"
    }
   ],
   "source": [
    "#CSS Styling for better view of the notebook\n",
    "\n",
    "from IPython.core.display import HTML\n",
    "HTML(\"\"\"\n",
    "<style>\n",
    "\n",
    "div.cell { /* Tunes the space between cells */\n",
    "margin-top:1em;\n",
    "margin-bottom:1em;\n",
    "}\n",
    "\n",
    "div.text_cell_render h1 { /* Main titles bigger, centered */\n",
    "font-size: 2.2em;\n",
    "line-height:1.4em;\n",
    "text-align:center;\n",
    "}\n",
    "\n",
    "div.text_cell_render h2 { /*  Parts names nearer from text */\n",
    "margin-bottom: -0.4em;\n",
    "}\n",
    "\n",
    "\n",
    "div.text_cell_render { /* Customize text cells */\n",
    "font-family: 'Times New Roman';\n",
    "font-style:italic;\n",
    "font-size:1.4em;\n",
    "line-height:1.4em;\n",
    "padding-left:0em;\n",
    "padding-right:0em;\n",
    "}\n",
    "</style>\n",
    "\"\"\")"
   ]
  },
  {
   "cell_type": "code",
   "execution_count": 3,
   "metadata": {},
   "outputs": [],
   "source": [
    "#Setting default parameters of the plot \n",
    "\n",
    "SMALL_SIZE = 16\n",
    "MEDIUM_SIZE = 20\n",
    "BIGGER_SIZE = 22\n",
    "FIGURE_SIZE = (8,6)\n",
    "\n",
    "plt.rc('font', size=SMALL_SIZE)          # controls default text sizes\n",
    "plt.rc('axes', titlesize=SMALL_SIZE)     # fontsize of the axes title\n",
    "plt.rc('axes', labelsize=BIGGER_SIZE)    # fontsize of the x and y labels\n",
    "plt.rc('xtick', labelsize=SMALL_SIZE)    # fontsize of the tick labels\n",
    "plt.rc('ytick', labelsize=SMALL_SIZE)    # fontsize of the tick labels\n",
    "plt.rc('legend', fontsize=SMALL_SIZE)    # legend fontsize\n",
    "plt.rc('figure', titlesize=BIGGER_SIZE)  # fontsize of the figure title\n",
    "plt.rc('figure', figsize = FIGURE_SIZE)  # controls figuresize "
   ]
  },
  {
   "cell_type": "markdown",
   "metadata": {},
   "source": [
    "### Training, Validation and Test data are prepared during the data preprocessing section and are used in modelling the data."
   ]
  },
  {
   "cell_type": "code",
   "execution_count": 4,
   "metadata": {},
   "outputs": [],
   "source": [
    "#Reading the data.....\n",
    "\n",
    "training_df = pd.read_csv(\"training.csv\")\n",
    "\n",
    "validate_df = pd.read_csv(\"validate.csv\")\n",
    "\n",
    "testing_df = pd.read_csv(\"testing.csv\")"
   ]
  },
  {
   "cell_type": "markdown",
   "metadata": {},
   "source": [
    "### Data Exploration:"
   ]
  },
  {
   "cell_type": "code",
   "execution_count": 5,
   "metadata": {},
   "outputs": [
    {
     "data": {
      "text/html": [
       "<div>\n",
       "<style scoped>\n",
       "    .dataframe tbody tr th:only-of-type {\n",
       "        vertical-align: middle;\n",
       "    }\n",
       "\n",
       "    .dataframe tbody tr th {\n",
       "        vertical-align: top;\n",
       "    }\n",
       "\n",
       "    .dataframe thead th {\n",
       "        text-align: right;\n",
       "    }\n",
       "</style>\n",
       "<table border=\"1\" class=\"dataframe\">\n",
       "  <thead>\n",
       "    <tr style=\"text-align: right;\">\n",
       "      <th></th>\n",
       "      <th>ID</th>\n",
       "      <th>Case Number</th>\n",
       "      <th>Date</th>\n",
       "      <th>Block</th>\n",
       "      <th>IUCR</th>\n",
       "      <th>...</th>\n",
       "      <th>Domestic_Codes</th>\n",
       "      <th>Year</th>\n",
       "      <th>Month</th>\n",
       "      <th>Week</th>\n",
       "      <th>Hour</th>\n",
       "    </tr>\n",
       "  </thead>\n",
       "  <tbody>\n",
       "    <tr>\n",
       "      <th>0</th>\n",
       "      <td>11186430</td>\n",
       "      <td>JA560886</td>\n",
       "      <td>2017-12-23 11:45:00</td>\n",
       "      <td>049XX N WINTHROP AVE</td>\n",
       "      <td>0820</td>\n",
       "      <td>...</td>\n",
       "      <td>0</td>\n",
       "      <td>2017</td>\n",
       "      <td>12</td>\n",
       "      <td>51</td>\n",
       "      <td>11</td>\n",
       "    </tr>\n",
       "    <tr>\n",
       "      <th>1</th>\n",
       "      <td>9296242</td>\n",
       "      <td>HW440886</td>\n",
       "      <td>2013-09-06 14:00:00</td>\n",
       "      <td>032XX N MILWAUKEE AVE</td>\n",
       "      <td>0486</td>\n",
       "      <td>...</td>\n",
       "      <td>0</td>\n",
       "      <td>2013</td>\n",
       "      <td>9</td>\n",
       "      <td>36</td>\n",
       "      <td>14</td>\n",
       "    </tr>\n",
       "    <tr>\n",
       "      <th>2</th>\n",
       "      <td>11278627</td>\n",
       "      <td>JB215264</td>\n",
       "      <td>2018-04-07 18:34:00</td>\n",
       "      <td>0000X W 111TH ST</td>\n",
       "      <td>0460</td>\n",
       "      <td>...</td>\n",
       "      <td>0</td>\n",
       "      <td>2018</td>\n",
       "      <td>4</td>\n",
       "      <td>14</td>\n",
       "      <td>18</td>\n",
       "    </tr>\n",
       "    <tr>\n",
       "      <th>3</th>\n",
       "      <td>9734456</td>\n",
       "      <td>HX384483</td>\n",
       "      <td>2014-08-07 23:30:00</td>\n",
       "      <td>080XX S ESSEX AVE</td>\n",
       "      <td>1220</td>\n",
       "      <td>...</td>\n",
       "      <td>0</td>\n",
       "      <td>2014</td>\n",
       "      <td>8</td>\n",
       "      <td>32</td>\n",
       "      <td>23</td>\n",
       "    </tr>\n",
       "    <tr>\n",
       "      <th>4</th>\n",
       "      <td>8899755</td>\n",
       "      <td>HV573828</td>\n",
       "      <td>2012-11-23 15:00:00</td>\n",
       "      <td>019XX W SCHILLER ST</td>\n",
       "      <td>1360</td>\n",
       "      <td>...</td>\n",
       "      <td>0</td>\n",
       "      <td>2012</td>\n",
       "      <td>11</td>\n",
       "      <td>47</td>\n",
       "      <td>15</td>\n",
       "    </tr>\n",
       "  </tbody>\n",
       "</table>\n",
       "<p>5 rows × 25 columns</p>\n",
       "</div>"
      ],
      "text/plain": [
       "         ID Case Number                 Date                  Block  IUCR  \\\n",
       "0  11186430    JA560886  2017-12-23 11:45:00   049XX N WINTHROP AVE  0820   \n",
       "1   9296242    HW440886  2013-09-06 14:00:00  032XX N MILWAUKEE AVE  0486   \n",
       "2  11278627    JB215264  2018-04-07 18:34:00       0000X W 111TH ST  0460   \n",
       "3   9734456    HX384483  2014-08-07 23:30:00      080XX S ESSEX AVE  1220   \n",
       "4   8899755    HV573828  2012-11-23 15:00:00    019XX W SCHILLER ST  1360   \n",
       "\n",
       "   ... Domestic_Codes  Year Month  Week  Hour  \n",
       "0  ...              0  2017    12    51    11  \n",
       "1  ...              0  2013     9    36    14  \n",
       "2  ...              0  2018     4    14    18  \n",
       "3  ...              0  2014     8    32    23  \n",
       "4  ...              0  2012    11    47    15  \n",
       "\n",
       "[5 rows x 25 columns]"
      ]
     },
     "execution_count": 5,
     "metadata": {},
     "output_type": "execute_result"
    }
   ],
   "source": [
    "training_df.head()"
   ]
  },
  {
   "cell_type": "code",
   "execution_count": 6,
   "metadata": {},
   "outputs": [
    {
     "data": {
      "text/plain": [
       "Index(['ID', 'Case Number', 'Date', 'Block', 'IUCR', 'Primary Type',\n",
       "       'Description', 'Location Description', 'Arrest', 'Domestic', 'Beat',\n",
       "       'District', 'Ward', 'Community Area', 'Latitude', 'Longitude',\n",
       "       'Primary_Type_Codes', 'Description_Codes', 'Location_Desctiption_Codes',\n",
       "       'Arrest_Codes', 'Domestic_Codes', 'Year', 'Month', 'Week', 'Hour'],\n",
       "      dtype='object')"
      ]
     },
     "execution_count": 6,
     "metadata": {},
     "output_type": "execute_result"
    }
   ],
   "source": [
    "training_df.columns"
   ]
  },
  {
   "cell_type": "code",
   "execution_count": 7,
   "metadata": {},
   "outputs": [
    {
     "name": "stdout",
     "output_type": "stream",
     "text": [
      "<class 'pandas.core.frame.DataFrame'>\n",
      "RangeIndex: 1993637 entries, 0 to 1993636\n",
      "Data columns (total 25 columns):\n",
      "ID                            int64\n",
      "Case Number                   object\n",
      "Date                          object\n",
      "Block                         object\n",
      "IUCR                          object\n",
      "Primary Type                  object\n",
      "Description                   object\n",
      "Location Description          object\n",
      "Arrest                        bool\n",
      "Domestic                      bool\n",
      "Beat                          int64\n",
      "District                      int64\n",
      "Ward                          int64\n",
      "Community Area                int64\n",
      "Latitude                      float64\n",
      "Longitude                     float64\n",
      "Primary_Type_Codes            int64\n",
      "Description_Codes             int64\n",
      "Location_Desctiption_Codes    int64\n",
      "Arrest_Codes                  int64\n",
      "Domestic_Codes                int64\n",
      "Year                          int64\n",
      "Month                         int64\n",
      "Week                          int64\n",
      "Hour                          int64\n",
      "dtypes: bool(2), float64(2), int64(14), object(7)\n",
      "memory usage: 353.6+ MB\n",
      "None\n"
     ]
    }
   ],
   "source": [
    "#checking the dtypes of each column in the datadrame\n",
    "\n",
    "print(training_df.info())"
   ]
  },
  {
   "cell_type": "markdown",
   "metadata": {},
   "source": [
    "### Exploring Output variable District:"
   ]
  },
  {
   "cell_type": "code",
   "execution_count": 8,
   "metadata": {},
   "outputs": [],
   "source": [
    "'''\n",
    "District Names: \n",
    "\n",
    "1 : 'Central',\n",
    "2 : 'WentWorth',\n",
    "3 : 'Grand Crossing',\n",
    "4 : 'South Chicago',\n",
    "5 : 'Calumet',\n",
    "6 : 'Gresham',\n",
    "7 : 'Englewood',\n",
    "8 : 'Chicago Lawn',\n",
    "9 : 'Deering',\n",
    "10 : 'Ogden',\n",
    "11 : 'Harrison',\n",
    "12 : 'Near West',\n",
    "14 : 'Shakespeare',\n",
    "15 : 'Austin',\n",
    "16 : 'Jefferson Park',\n",
    "17 : 'Albany Park',\n",
    "18 : 'Near North',\n",
    "19 : 'Town Hall',\n",
    "20 : 'Lincon',\n",
    "22 : 'Morgan Park',\n",
    "23 : 'Rogers Park',\n",
    "25 : 'Grant Central'\n",
    "''';"
   ]
  },
  {
   "cell_type": "code",
   "execution_count": 9,
   "metadata": {},
   "outputs": [],
   "source": [
    "#Adding Distict name as a column to our dataframe:\n",
    "\n",
    "def add_district_name(df):\n",
    "    \n",
    "    if df['District'] == 1 :\n",
    "        return 'Central'\n",
    "    if df['District'] == 2 :\n",
    "        return 'WentWorth'\n",
    "    if df['District'] == 3 :\n",
    "        return 'Grand Crossing'\n",
    "    if df['District'] == 4 :\n",
    "        return 'South Chicago'\n",
    "    if df['District'] == 5 :\n",
    "        return 'Calumet'\n",
    "    if df['District'] == 6 :\n",
    "        return 'Gresham'\n",
    "    if df['District'] == 7 :\n",
    "        return 'Englewood'\n",
    "    if df['District'] == 8 :\n",
    "        return 'Chicago Lawn'\n",
    "    if df['District'] == 9 :\n",
    "        return 'Deering'\n",
    "    if df['District'] == 10 :\n",
    "        return 'Ogden'\n",
    "    if df['District'] == 11 :\n",
    "        return 'Harrison'\n",
    "    if df['District'] == 12 :\n",
    "        return 'Near West'\n",
    "    if df['District'] == 14 :\n",
    "        return 'Shakespeare'\n",
    "    if df['District'] == 15 :\n",
    "        return 'Austin'\n",
    "    if df['District'] == 16 :\n",
    "        return 'Jefferson Park'\n",
    "    if df['District'] == 17 :\n",
    "        return 'Albany Park'\n",
    "    if df['District'] == 18 :\n",
    "        return 'Near North'\n",
    "    if df['District'] == 19 :\n",
    "        return 'Town Hall'\n",
    "    if df['District'] == 20 :\n",
    "        return 'Lincon'\n",
    "    if df['District'] == 22 :\n",
    "        return 'Morgan Park'\n",
    "    if df['District'] == 23 :\n",
    "        return 'Rogers Park'\n",
    "    if df['District'] == 25 :\n",
    "        return 'Grant Central'\n",
    "    return 'Other'"
   ]
  },
  {
   "cell_type": "code",
   "execution_count": 10,
   "metadata": {},
   "outputs": [],
   "source": [
    "#Adding District_Name for all the three datasets\n",
    "\n",
    "training_df['District_Name'] = training_df.apply (lambda df: add_district_name(df), axis=1)\n",
    "\n",
    "validate_df['District_Name'] = validate_df.apply (lambda df: add_district_name(df), axis=1)\n",
    "\n",
    "testing_df['District_Name'] = testing_df.apply (lambda df: add_district_name(df), axis=1)"
   ]
  },
  {
   "cell_type": "code",
   "execution_count": 11,
   "metadata": {},
   "outputs": [],
   "source": [
    "district_count = training_df['District'].value_counts()"
   ]
  },
  {
   "cell_type": "code",
   "execution_count": 12,
   "metadata": {},
   "outputs": [
    {
     "data": {
      "text/plain": [
       "11    136402\n",
       "8     131671\n",
       "6     120411\n",
       "7     114896\n",
       "4     114322\n",
       "25    112291\n",
       "3     100694\n",
       "12     95985\n",
       "9      95704\n",
       "18     93187\n",
       "10     90854\n",
       "19     89620\n",
       "5      89245\n",
       "1      87993\n",
       "15     84900\n",
       "2      84550\n",
       "14     73662\n",
       "16     65626\n",
       "22     64555\n",
       "17     57532\n",
       "24     56361\n",
       "20     33163\n",
       "31        13\n",
       "Name: District, dtype: int64"
      ]
     },
     "execution_count": 12,
     "metadata": {},
     "output_type": "execute_result"
    }
   ],
   "source": [
    "district_count"
   ]
  },
  {
   "cell_type": "code",
   "execution_count": 13,
   "metadata": {},
   "outputs": [
    {
     "data": {
      "image/png": "[encoded data removed]",
      "text/plain": [
       "<Figure size 576x432 with 1 Axes>"
      ]
     },
     "metadata": {
      "needs_background": "light"
     },
     "output_type": "display_data"
    }
   ],
   "source": [
    "#Plotting the frequency of crimes with respect to districts\n",
    "\n",
    "district_crime_plot = sbs.barplot(district_count.index, district_count.values)\n",
    "\n",
    "plt.title(\"District Crime Counts\", fontsize = 20)\n",
    "\n",
    "plt.ylabel(\"Number of Crimes\",fontsize = 20)\n",
    "\n",
    "plt.xlabel(\"District\", fontsize = 20)\n",
    "\n",
    "plt.show()"
   ]
  },
  {
   "cell_type": "code",
   "execution_count": 14,
   "metadata": {},
   "outputs": [],
   "source": [
    "m = folium.Map([41.881832, -87.623177], tiles='stamentoner', zoom_start=10)\n",
    "\n",
    "data = training_df.loc[:, ['Latitude','Longitude']]\n",
    "\n",
    "HeatMap(data).add_to(m)\n",
    "\n",
    "m.save('Heatmap.html')"
   ]
  },
  {
   "cell_type": "code",
   "execution_count": 15,
   "metadata": {
    "scrolled": true
   },
   "outputs": [
    {
     "data": {
      "text/html": [
       "\n",
       "        <iframe\n",
       "            width=\"700\"\n",
       "            height=\"600\"\n",
       "            src=\"./Heatmap.html\"\n",
       "            frameborder=\"0\"\n",
       "            allowfullscreen\n",
       "        ></iframe>\n",
       "        "
      ],
      "text/plain": [
       "<IPython.lib.display.IFrame at 0x20a11b55710>"
      ]
     },
     "execution_count": 15,
     "metadata": {},
     "output_type": "execute_result"
    }
   ],
   "source": [
    "from IPython.display import IFrame\n",
    "\n",
    "IFrame(src='./Heatmap.html', width=700, height=600)"
   ]
  },
  {
   "cell_type": "code",
   "execution_count": 16,
   "metadata": {},
   "outputs": [],
   "source": [
    "m = folium.Map(location=[41.881832, -87.623177])\n",
    "\n",
    "HeatMap(data=training_df[['Latitude', 'Longitude']].groupby(training_df['District']).\n",
    "        sum().reset_index().values.tolist(), radius=8, max_zoom=13).add_to(m)\n",
    "\n",
    "m.save('district.html')"
   ]
  },
  {
   "cell_type": "code",
   "execution_count": 17,
   "metadata": {},
   "outputs": [
    {
     "data": {
      "text/html": [
       "\n",
       "        <iframe\n",
       "            width=\"700\"\n",
       "            height=\"600\"\n",
       "            src=\"./district.html\"\n",
       "            frameborder=\"0\"\n",
       "            allowfullscreen\n",
       "        ></iframe>\n",
       "        "
      ],
      "text/plain": [
       "<IPython.lib.display.IFrame at 0x20a7badc780>"
      ]
     },
     "execution_count": 17,
     "metadata": {},
     "output_type": "execute_result"
    }
   ],
   "source": [
    "from IPython.display import IFrame\n",
    "\n",
    "IFrame(src='./district.html', width=700, height=600)"
   ]
  },
  {
   "cell_type": "code",
   "execution_count": 18,
   "metadata": {},
   "outputs": [],
   "source": [
    "total_crime_data = pd.read_csv(\"crimes2010To2019.csv\")\n",
    "\n",
    "\n",
    "base_map = folium.Map(location=[41.881832, -87.623177])"
   ]
  },
  {
   "cell_type": "code",
   "execution_count": 19,
   "metadata": {},
   "outputs": [],
   "source": [
    "Location_Data = total_crime_data.groupby(['Location']).first()"
   ]
  },
  {
   "cell_type": "code",
   "execution_count": 20,
   "metadata": {},
   "outputs": [],
   "source": [
    "key_Loc_Data = Location_Data.loc[:, ['Location Description', 'District','Latitude','Longitude']]"
   ]
  },
  {
   "cell_type": "code",
   "execution_count": 21,
   "metadata": {},
   "outputs": [],
   "source": [
    "key_Loc_Data['freq'] = key_Loc_Data.groupby('District')['District'].transform('count')"
   ]
  },
  {
   "cell_type": "code",
   "execution_count": 22,
   "metadata": {},
   "outputs": [],
   "source": [
    "heat_Data = key_Loc_Data.loc[:,['freq','Latitude','Longitude']]"
   ]
  },
  {
   "cell_type": "code",
   "execution_count": 23,
   "metadata": {},
   "outputs": [],
   "source": [
    "m = folium.Map(location=[41.881832, -87.623177])\n",
    "\n",
    "HeatMap(data=heat_Data, radius=8, max_zoom=13).add_to(m)\n",
    "\n",
    "m.save('district.html')"
   ]
  },
  {
   "cell_type": "markdown",
   "metadata": {},
   "source": [
    "### Converting data type of the columns to format suitable for modelling:"
   ]
  },
  {
   "cell_type": "code",
   "execution_count": 24,
   "metadata": {},
   "outputs": [],
   "source": [
    "#Converting some numerical columns to categorical as variables are categorical in nature\n",
    "\n",
    "training_df['Beat'] = training_df['Beat'].astype('category')\n",
    "\n",
    "training_df['District'] = training_df['District'].astype('category')\n",
    "\n",
    "training_df['Ward'] = training_df['Ward'].astype('category')\n",
    "\n",
    "training_df['Community Area'] = training_df['Community Area'].astype('category')\n",
    "\n",
    "training_df[\"Year\"] = training_df[\"Year\"].astype(\"category\")\n",
    "\n",
    "training_df[\"Month\"] = training_df[\"Month\"].astype(\"category\")\n",
    "\n",
    "training_df[\"Week\"] = training_df[\"Week\"].astype(\"category\")\n",
    "\n",
    "training_df[\"Hour\"] = training_df[\"Hour\"].astype(\"category\")"
   ]
  },
  {
   "cell_type": "markdown",
   "metadata": {},
   "source": [
    "Converting the data for validation and test datasets:"
   ]
  },
  {
   "cell_type": "code",
   "execution_count": 25,
   "metadata": {},
   "outputs": [],
   "source": [
    "#Validation data:\n",
    "\n",
    "validate_df['Beat'] = validate_df['Beat'].astype('category')\n",
    "\n",
    "validate_df['District'] = validate_df['District'].astype('category')\n",
    "\n",
    "validate_df['Ward'] = validate_df['Ward'].astype('category')\n",
    "\n",
    "validate_df['Community Area'] = validate_df['Community Area'].astype('category')\n",
    "\n",
    "validate_df[\"Year\"] = validate_df[\"Year\"].astype(\"category\")\n",
    "\n",
    "validate_df[\"Month\"] = validate_df[\"Month\"].astype(\"category\")\n",
    "\n",
    "validate_df[\"Week\"] = validate_df[\"Week\"].astype(\"category\")\n",
    "\n",
    "validate_df[\"Hour\"] = validate_df[\"Hour\"].astype(\"category\")\n",
    "\n",
    "\n",
    "#Testing data:\n",
    "\n",
    "testing_df['Beat'] = testing_df['Beat'].astype('category')\n",
    "\n",
    "testing_df['District'] = testing_df['District'].astype('category')\n",
    "\n",
    "testing_df['Ward'] = testing_df['Ward'].astype('category')\n",
    "\n",
    "testing_df['Community Area'] = testing_df['Community Area'].astype('category')\n",
    "\n",
    "testing_df[\"Year\"] = testing_df[\"Year\"].astype(\"category\")\n",
    "\n",
    "testing_df[\"Month\"] = testing_df[\"Month\"].astype(\"category\")\n",
    "\n",
    "testing_df[\"Week\"] = testing_df[\"Week\"].astype(\"category\")\n",
    "\n",
    "testing_df[\"Hour\"] = testing_df[\"Hour\"].astype(\"category\")"
   ]
  },
  {
   "cell_type": "markdown",
   "metadata": {},
   "source": [
    "We have the data converted and ready for variables like Primary_type, Description, Location_Description, Arrest and Domestic. The converted codes will be used for modelling purposes.\n"
   ]
  },
  {
   "cell_type": "markdown",
   "metadata": {},
   "source": [
    "### Modelling:"
   ]
  },
  {
   "cell_type": "code",
   "execution_count": 26,
   "metadata": {},
   "outputs": [],
   "source": [
    "#Dividing the columns to create Independednt and Predictor variables\n",
    "\n",
    "X_train = training_df.loc[:,['Primary_Type_Codes','Location_Desctiption_Codes', 'Arrest_Codes', 'Domestic_Codes', 'Beat',\n",
    "                             'Ward', 'Community Area', 'Latitude', 'Longitude']]\n",
    "\n",
    "y_train = training_df.loc[:,'District']\n",
    "\n",
    "X_validate = validate_df.loc[:,['Primary_Type_Codes','Location_Desctiption_Codes', 'Arrest_Codes', 'Domestic_Codes', 'Beat',\n",
    "                             'Ward', 'Community Area', 'Latitude', 'Longitude']]\n",
    "\n",
    "y_validate = validate_df.loc[:,'District']\n",
    "\n",
    "X_test = testing_df.loc[:,['Primary_Type_Codes','Location_Desctiption_Codes', 'Arrest_Codes', 'Domestic_Codes', 'Beat',\n",
    "                             'Ward', 'Community Area', 'Latitude', 'Longitude']]\n",
    "\n",
    "y_test = testing_df.loc[:,'District']"
   ]
  },
  {
   "cell_type": "code",
   "execution_count": 27,
   "metadata": {},
   "outputs": [
    {
     "data": {
      "text/plain": [
       "LogisticRegression(C=1.0, class_weight=None, dual=False, fit_intercept=True,\n",
       "          intercept_scaling=1, max_iter=100, multi_class='warn',\n",
       "          n_jobs=None, penalty='l2', random_state=13, solver='warn',\n",
       "          tol=0.0001, verbose=0, warm_start=False)"
      ]
     },
     "execution_count": 27,
     "metadata": {},
     "output_type": "execute_result"
    }
   ],
   "source": [
    "#Running LogisticRegression on the data:\n",
    "\n",
    "logistic_model = LogisticRegression(random_state=13)\n",
    "\n",
    "logistic_model.fit(X_train, y_train)"
   ]
  },
  {
   "cell_type": "code",
   "execution_count": 28,
   "metadata": {},
   "outputs": [],
   "source": [
    "y_predLR_train = logistic_model.predict(X_train)\n",
    "y_predLR_val   = logistic_model.predict(X_validate)\n",
    "y_predLR_test  = logistic_model.predict(X_test)"
   ]
  },
  {
   "cell_type": "code",
   "execution_count": 29,
   "metadata": {},
   "outputs": [
    {
     "name": "stdout",
     "output_type": "stream",
     "text": [
      "Accuracy score of Training dataset is :  0.5894483298614542\n",
      "Accuracy score of validation dataset is :  0.5894233081875174\n",
      "Accuracy score of testing dataset is :  0.5901034388320471\n"
     ]
    }
   ],
   "source": [
    "#Printing Accuracy scores across dataframes\n",
    "\n",
    "print(\"Accuracy score of Training dataset is : \",accuracy_score(y_train,y_predLR_train))\n",
    "\n",
    "print(\"Accuracy score of validation dataset is : \",accuracy_score(y_validate,y_predLR_val))\n",
    "\n",
    "print(\"Accuracy score of testing dataset is : \",accuracy_score(y_test,y_predLR_test))"
   ]
  },
  {
   "cell_type": "code",
   "execution_count": 30,
   "metadata": {},
   "outputs": [
    {
     "data": {
      "text/plain": [
       "DecisionTreeClassifier(class_weight=None, criterion='gini', max_depth=7,\n",
       "            max_features=None, max_leaf_nodes=None,\n",
       "            min_impurity_decrease=0.0, min_impurity_split=None,\n",
       "            min_samples_leaf=1, min_samples_split=2,\n",
       "            min_weight_fraction_leaf=0.0, presort=False, random_state=13,\n",
       "            splitter='best')"
      ]
     },
     "execution_count": 30,
     "metadata": {},
     "output_type": "execute_result"
    }
   ],
   "source": [
    "#Running Decision tree on the data:\n",
    "\n",
    "tree_model = DecisionTreeClassifier(max_depth = 7, random_state=13)\n",
    "\n",
    "tree_model.fit(X_train,y_train)"
   ]
  },
  {
   "cell_type": "code",
   "execution_count": 31,
   "metadata": {},
   "outputs": [],
   "source": [
    "y_predDT_train = tree_model.predict(X_train)\n",
    "y_predDT_val   = tree_model.predict(X_validate)\n",
    "y_predDT_test  = tree_model.predict(X_test)"
   ]
  },
  {
   "cell_type": "code",
   "execution_count": 32,
   "metadata": {},
   "outputs": [
    {
     "name": "stdout",
     "output_type": "stream",
     "text": [
      "Accuracy score of training dataset is :  0.8548075702848613\n",
      "Accuracy score of validation dataset is :  0.854876398103267\n",
      "Accuracy score of testing dataset is :  0.8548099408018089\n"
     ]
    }
   ],
   "source": [
    "#Printing Accuracy scores across dataframes\n",
    "\n",
    "print(\"Accuracy score of training dataset is : \",accuracy_score(y_train,y_predDT_train))\n",
    "\n",
    "print(\"Accuracy score of validation dataset is : \",accuracy_score(y_validate,y_predDT_val))\n",
    "\n",
    "print(\"Accuracy score of testing dataset is : \",accuracy_score(y_test,y_predDT_test))"
   ]
  },
  {
   "cell_type": "code",
   "execution_count": 33,
   "metadata": {},
   "outputs": [
    {
     "data": {
      "text/plain": [
       "RandomForestClassifier(bootstrap=True, class_weight=None, criterion='gini',\n",
       "            max_depth=None, max_features='auto', max_leaf_nodes=None,\n",
       "            min_impurity_decrease=0.0, min_impurity_split=None,\n",
       "            min_samples_leaf=1, min_samples_split=2,\n",
       "            min_weight_fraction_leaf=0.0, n_estimators=10, n_jobs=None,\n",
       "            oob_score=False, random_state=13, verbose=0, warm_start=False)"
      ]
     },
     "execution_count": 33,
     "metadata": {},
     "output_type": "execute_result"
    }
   ],
   "source": [
    "#Running Random Forest on the data:\n",
    "\n",
    "rf_model = RandomForestClassifier(random_state=13)\n",
    "\n",
    "rf_model.fit(X_train,y_train)"
   ]
  },
  {
   "cell_type": "code",
   "execution_count": 34,
   "metadata": {},
   "outputs": [],
   "source": [
    "y_predRF_train = rf_model.predict(X_train)\n",
    "y_predRF_val   = rf_model.predict(X_validate)\n",
    "y_predRD_test  = rf_model.predict(X_test)"
   ]
  },
  {
   "cell_type": "code",
   "execution_count": 35,
   "metadata": {},
   "outputs": [
    {
     "name": "stdout",
     "output_type": "stream",
     "text": [
      "Accuracy score of training dataset is :  0.9999869585084947\n",
      "Accuracy score of validation dataset is :  0.9999561103981489\n",
      "Accuracy score of training dataset is :  0.999933287922305\n"
     ]
    }
   ],
   "source": [
    "#Printing Accuracy scores across dataframes\n",
    "\n",
    "print(\"Accuracy score of training dataset is : \",accuracy_score(y_train,y_predRF_train))\n",
    "\n",
    "print(\"Accuracy score of validation dataset is : \",accuracy_score(y_validate,y_predRF_val))\n",
    "\n",
    "print(\"Accuracy score of training dataset is : \",accuracy_score(y_test,y_predRD_test))"
   ]
  },
  {
   "cell_type": "code",
   "execution_count": 36,
   "metadata": {},
   "outputs": [
    {
     "data": {
      "text/plain": [
       "GaussianNB(priors=None, var_smoothing=1e-09)"
      ]
     },
     "execution_count": 36,
     "metadata": {},
     "output_type": "execute_result"
    }
   ],
   "source": [
    "#Running Gaussian Naive Bayes on the data:\n",
    "\n",
    "gaussiannb_model = GaussianNB()\n",
    "\n",
    "gaussiannb_model.fit(X_train, y_train)"
   ]
  },
  {
   "cell_type": "code",
   "execution_count": 37,
   "metadata": {},
   "outputs": [],
   "source": [
    "y_predNB_train = gaussiannb_model.predict(X_train)\n",
    "y_predNB_val   = gaussiannb_model.predict(X_validate)\n",
    "y_predNB_test  = gaussiannb_model.predict(X_test)"
   ]
  },
  {
   "cell_type": "code",
   "execution_count": 38,
   "metadata": {},
   "outputs": [
    {
     "name": "stdout",
     "output_type": "stream",
     "text": [
      "Accuracy score of training dataset is :  0.9797861897627301\n",
      "Accuracy score of validation dataset is :  0.9794403549088764\n",
      "Accuracy score of testing dataset is :  0.9793613898583597\n"
     ]
    }
   ],
   "source": [
    "#Printing Accuracy scores across dataframes\n",
    "\n",
    "print(\"Accuracy score of training dataset is : \",accuracy_score(y_train,y_predNB_train))\n",
    "\n",
    "print(\"Accuracy score of validation dataset is : \",accuracy_score(y_validate,y_predNB_val))\n",
    "\n",
    "print(\"Accuracy score of testing dataset is : \",accuracy_score(y_test,y_predNB_test))"
   ]
  },
  {
   "cell_type": "code",
   "execution_count": 39,
   "metadata": {},
   "outputs": [
    {
     "data": {
      "text/plain": [
       "MLPClassifier(activation='relu', alpha=0.0001, batch_size='auto', beta_1=0.9,\n",
       "       beta_2=0.999, early_stopping=False, epsilon=1e-08,\n",
       "       hidden_layer_sizes=(100,), learning_rate='constant',\n",
       "       learning_rate_init=0.001, max_iter=200, momentum=0.9,\n",
       "       n_iter_no_change=10, nesterovs_momentum=True, power_t=0.5,\n",
       "       random_state=13, shuffle=True, solver='adam', tol=0.0001,\n",
       "       validation_fraction=0.1, verbose=False, warm_start=False)"
      ]
     },
     "execution_count": 39,
     "metadata": {},
     "output_type": "execute_result"
    }
   ],
   "source": [
    "#Running Neural Networks on the model\n",
    "\n",
    "nn_model = MLPClassifier(random_state=13)\n",
    "\n",
    "nn_model.fit(X_train,y_train)"
   ]
  },
  {
   "cell_type": "code",
   "execution_count": 40,
   "metadata": {},
   "outputs": [],
   "source": [
    "y_predNN_train = nn_model.predict(X_train)\n",
    "y_predNN_val   = nn_model.predict(X_validate)\n",
    "y_predNN_test  = nn_model.predict(X_test)"
   ]
  },
  {
   "cell_type": "code",
   "execution_count": 41,
   "metadata": {},
   "outputs": [
    {
     "name": "stdout",
     "output_type": "stream",
     "text": [
      "Accuracy score of training dataset is :  0.9993589605329355\n",
      "Accuracy score of validation dataset is :  0.9993732564855665\n",
      "Accuracy score of testing dataset is :  0.9993644796809056\n"
     ]
    }
   ],
   "source": [
    "#Printing Accuracy scores across dataframes\n",
    "\n",
    "print(\"Accuracy score of training dataset is : \",accuracy_score(y_train,y_predNN_train))\n",
    "\n",
    "print(\"Accuracy score of validation dataset is : \",accuracy_score(y_validate,y_predNN_val))\n",
    "\n",
    "print(\"Accuracy score of testing dataset is : \",accuracy_score(y_test,y_predNN_test))"
   ]
  },
  {
   "cell_type": "code",
   "execution_count": 45,
   "metadata": {},
   "outputs": [],
   "source": [
    "model  = ['Logistic Regression','Decision Tree', 'Random Forest', \"Naive Baye's\", 'Neural Network']\n",
    "\n",
    "trAcc  = [accuracy_score(y_predLR_train,y_train),accuracy_score(y_predDT_train,y_train),\n",
    "          accuracy_score(y_predRF_train, y_train),\n",
    "       accuracy_score(y_predNB_train, y_train), accuracy_score(y_predNN_train, y_train)]\n",
    "\n",
    "valAcc = [accuracy_score(y_predLR_val,y_validate), accuracy_score(y_predDT_val,y_validate),\n",
    "          accuracy_score(y_predRF_val,   y_validate),\n",
    "       accuracy_score(y_predNB_val, y_validate), accuracy_score(y_predNN_val,y_validate)]\n",
    "\n",
    "tesAcc = [accuracy_score(y_predLR_test,y_test),accuracy_score(y_predDT_test,y_test),\n",
    "          accuracy_score(y_predRD_test,  y_test),\n",
    "       accuracy_score(y_predNB_test,y_test), accuracy_score(y_predNN_test,y_test)]"
   ]
  },
  {
   "cell_type": "code",
   "execution_count": 46,
   "metadata": {},
   "outputs": [
    {
     "data": {
      "image/png": "[encoded data removed]",
      "text/plain": [
       "<Figure size 1368x720 with 1 Axes>"
      ]
     },
     "metadata": {
      "needs_background": "light"
     },
     "output_type": "display_data"
    }
   ],
   "source": [
    "plt.figure(figsize = (19, 10))\n",
    "plt.plot(model, trAcc, \"o-\", label = \"Train\", color = \"red\")\n",
    "plt.plot(model, valAcc, \"s-\", label = \"Validation\", color = \"blue\")\n",
    "plt.plot(model, tesAcc, \"*-\", label = \"Test\", color = \"green\")\n",
    "plt.legend(fontsize=20)\n",
    "plt.xlabel(\"Models\", fontsize = 20)\n",
    "plt.ylabel(\"Accuracy\", fontsize = 20)\n",
    "plt.title(\"Models & Their Performances\", fontsize = 22)\n",
    "plt.show()"
   ]
  },
  {
   "cell_type": "code",
   "execution_count": null,
   "metadata": {},
   "outputs": [],
   "source": []
  }
 ],
 "metadata": {
  "kernelspec": {
   "display_name": "Python 3",
   "language": "python",
   "name": "python3"
  },
  "language_info": {
   "codemirror_mode": {
    "name": "ipython",
    "version": 3
   },
   "file_extension": ".py",
   "mimetype": "text/x-python",
   "name": "python",
   "nbconvert_exporter": "python",
   "pygments_lexer": "ipython3",
   "version": "3.7.1"
  }
 },
 "nbformat": 4,
 "nbformat_minor": 2
}
